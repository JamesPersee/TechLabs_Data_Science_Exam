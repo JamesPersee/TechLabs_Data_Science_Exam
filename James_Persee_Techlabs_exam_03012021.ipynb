{
 "cells": [
  {
   "cell_type": "markdown",
   "metadata": {},
   "source": [
    "<img src=\"TechLabs.png\">"
   ]
  },
  {
   "cell_type": "code",
   "execution_count": null,
   "metadata": {},
   "outputs": [],
   "source": [
    "James Anthony Persée"
   ]
  },
  {
   "cell_type": "markdown",
   "metadata": {},
   "source": [
    "<h2>Please enter your full name here:</h2>"
   ]
  },
  {
   "cell_type": "markdown",
   "metadata": {},
   "source": [
    "\n",
    "<p> This exam will test your knowledge in Data Science. </p>\n",
    "<p> We will test the following: </p>\n",
    "    \n",
    "- Basic knowledge in Data Science\n",
    "- How to manipulate data\n",
    "- How to clean data\n",
    "- Further data analysis"
   ]
  },
  {
   "cell_type": "markdown",
   "metadata": {},
   "source": [
    "<h2>1. Basic Knowledge Test</h2>"
   ]
  },
  {
   "cell_type": "markdown",
   "metadata": {},
   "source": [
    "A) Create a dictionary and a list."
   ]
  },
  {
   "cell_type": "code",
   "execution_count": null,
   "metadata": {},
   "outputs": [],
   "source": [
    "Dict = {X, Y, Z}\n",
    "List = [X, Y, Z] \n",
    "\n",
    "#in R, it is a vector or a list. List <- c(X,Y,Z)/ List <- list(X, Y, Z)"
   ]
  },
  {
   "cell_type": "markdown",
   "metadata": {},
   "source": [
    "B) Create your own array containing multiple lists (at least 5 rows and 4 columns)."
   ]
  },
  {
   "cell_type": "code",
   "execution_count": null,
   "metadata": {},
   "outputs": [],
   "source": [
    "#In R, an array could be a dataframe compiling several lists in the following manner. To obtain 4 columns, we have to include 4 lists in the dataframe & each list must have 5 elements to build the row:\n",
    "- Dataframe <- data.frame(list1(L1,M1,N1,O1,P1), list2(L2,M2,N2,O2,P2), list3(L3,M3,N3,O3,P3), list4(L4,M4,N4,O4,P4)"
   ]
  },
  {
   "cell_type": "markdown",
   "metadata": {},
   "source": [
    "C) Convert your previous array into a pandas dataframe."
   ]
  },
  {
   "cell_type": "code",
   "execution_count": null,
   "metadata": {},
   "outputs": [],
   "source": [
    "#In R, dataframe could be created as visible above. (answer B)"
   ]
  },
  {
   "cell_type": "markdown",
   "metadata": {},
   "source": [
    " D) Please write a function that will start with the number 2 and will add 3 as long as the number is under 25."
   ]
  },
  {
   "cell_type": "code",
   "execution_count": null,
   "metadata": {},
   "outputs": [],
   "source": [
    "- n <- 2\n",
    "- Function <- while (n < 25) {\n",
    "n <- n + 3\n",
    "}\n"
   ]
  },
  {
   "cell_type": "markdown",
   "metadata": {},
   "source": [
    "E) Briefly explain what a lambda function is and its benefits over using regular functions."
   ]
  },
  {
   "cell_type": "code",
   "execution_count": null,
   "metadata": {},
   "outputs": [],
   "source": [
    "#I have not learned Lambda function in R. However, doing some research on Internet about Python, I can now answer that lambda functions can be used for any number of arguments but only have one expression."
   ]
  },
  {
   "cell_type": "markdown",
   "metadata": {},
   "source": [
    "F) What is the difference between relational and non-relational databases?"
   ]
  },
  {
   "cell_type": "code",
   "execution_count": null,
   "metadata": {},
   "outputs": [],
   "source": [
    "#I don’t think I ever learned that in the R-track. However, doing some research, I now know that relational database stores data into tables with rows & columns like an Excel; while non-relational database store data on a non-tabular basis and actually optimize the storage of data depending on its type (document-oriented, key-value store, wide-column store, graph store)"
   ]
  },
  {
   "cell_type": "markdown",
   "metadata": {},
   "source": [
    "<h2>2. Manipulating Data </h2>\n",
    "\n",
    "Dataset used: \"AB_NYC_2019.csv\" </p>\n",
    "In this part of the exam you will have to play around with a dataset and display subsets of the data."
   ]
  },
  {
   "cell_type": "code",
   "execution_count": 1,
   "metadata": {},
   "outputs": [],
   "source": [
    "dplyr, readr, tidyr, ggplot2\n"
   ]
  },
  {
   "cell_type": "markdown",
   "metadata": {},
   "source": [
    "A) Load \"AB_NYC_2019.csv\",  drop all null values, and name it \"df\"."
   ]
  },
  {
   "cell_type": "code",
   "execution_count": null,
   "metadata": {},
   "outputs": [],
   "source": [
    " \n",
    "- read_csv(\"AB_NYC_2019.csv\")\n",
    "- df <- data.frame(“AB_NYC_2019.csv”)\n",
    "- df <- na.omit(df)\n"
   ]
  },
  {
   "cell_type": "markdown",
   "metadata": {},
   "source": [
    "B) Within the dataframe \"df\", permanently rename the column \"name\" to \"listing_name\"."
   ]
  },
  {
   "cell_type": "code",
   "execution_count": null,
   "metadata": {},
   "outputs": [],
   "source": [
    "df <- df %>% rename(“listing_name” = “name”"
   ]
  },
  {
   "cell_type": "markdown",
   "metadata": {},
   "source": [
    "C) Drop the column host_id. Save the new dataframe again under the name \"df\"."
   ]
  },
  {
   "cell_type": "code",
   "execution_count": null,
   "metadata": {},
   "outputs": [],
   "source": [
    "df <- select(df, -host_id)"
   ]
  },
  {
   "cell_type": "markdown",
   "metadata": {},
   "source": [
    "D) Only show listings with a price higher than the average price. Sort the dataframe by price in an ascending order."
   ]
  },
  {
   "cell_type": "code",
   "execution_count": null,
   "metadata": {},
   "outputs": [],
   "source": [
    "- filter(df, price > mean(price))\n",
    "- Arrange (df, price)"
   ]
  },
  {
   "cell_type": "markdown",
   "metadata": {},
   "source": [
    "E) Only show listings that have more than the average reviews and that are available for more than 10 nights (column \"minimum_nights\"). Sort the dataframe by reviews in a descending order."
   ]
  },
  {
   "cell_type": "code",
   "execution_count": null,
   "metadata": {},
   "outputs": [],
   "source": [
    "- filter(df, number_of_reviews > average(number_of_reviews) & minimum_nights > 10)\n",
    "- Arrange (df, desc(number_of_reviews)\n"
   ]
  },
  {
   "cell_type": "markdown",
   "metadata": {},
   "source": [
    "F) Display the number of listings per neighbourhood and only display those neighbourhoods with more than 1000 listings."
   ]
  },
  {
   "cell_type": "code",
   "execution_count": null,
   "metadata": {},
   "outputs": [],
   "source": [
    "g_neighbourhood <- df %>% group_by(neighbourhood) %>% filter(df, count(neighbourhood) > 1000) "
   ]
  },
  {
   "cell_type": "markdown",
   "metadata": {},
   "source": [
    "G) Display the number of the different types of rooms (column \"room_type\") per neighbourhood."
   ]
  },
  {
   "cell_type": "code",
   "execution_count": null,
   "metadata": {},
   "outputs": [],
   "source": [
    "count(df, room_type)"
   ]
  },
  {
   "cell_type": "markdown",
   "metadata": {},
   "source": [
    "H) Replace the values within \"room_type\" with numerical values, i.e. 0 for \"private room\", 1 for \"Entire home/apt\", and 2 for \"Shared room\". </p>\n",
    "Save the new dataframe again under the name \"df\"."
   ]
  },
  {
   "cell_type": "code",
   "execution_count": null,
   "metadata": {},
   "outputs": [],
   "source": [
    "df <- df %>% replace(df$room_type,c(« private room », « Entire home/apt”, “Shared room”),c(0,1,2)) "
   ]
  },
  {
   "cell_type": "markdown",
   "metadata": {},
   "source": [
    "I) Display a bar chart using the distplot (from the seaborn library) that shows the neighbourhood on the x-axis and the number of listings on the y-axis."
   ]
  },
  {
   "cell_type": "code",
   "execution_count": null,
   "metadata": {},
   "outputs": [],
   "source": [
    "#Using ggplot 2 in R : \n",
    "- ggplot(df,aes(neighbourhood))+ geom_bar()"
   ]
  },
  {
   "cell_type": "markdown",
   "metadata": {},
   "source": [
    "J) Scale the column \"price\" and the column \"number_of_reviews\" using a method that seems appropriate in your opinion. </p>\n",
    "Save the new dataframe again under the name \"df\"."
   ]
  },
  {
   "cell_type": "code",
   "execution_count": null,
   "metadata": {},
   "outputs": [],
   "source": [
    "df %>% mutate_at(c(“price”, “number_of_reviews”), ~(scale(« price”, “number_of_reviews”) %>% as.vector))"
   ]
  },
  {
   "cell_type": "markdown",
   "metadata": {},
   "source": [
    "<h2>3. Cleaning Data</h2>\n",
    "\n",
    "Dataset used: \"defaults.xls\""
   ]
  },
  {
   "cell_type": "code",
   "execution_count": 3,
   "metadata": {},
   "outputs": [],
   "source": [
    "readxl, tidyr, dplyr\n"
   ]
  },
  {
   "cell_type": "markdown",
   "metadata": {},
   "source": [
    "A) Load the dataset \"defaults.xls\" and save it under the name \"defaults\". Display the datatypes of all columns of the dataset \"defaults.xls\"."
   ]
  },
  {
   "cell_type": "code",
   "execution_count": null,
   "metadata": {},
   "outputs": [],
   "source": [
    "- defaults <- read.xls(« defaults.xls”)\n",
    "- Str(defaults)\n"
   ]
  },
  {
   "cell_type": "markdown",
   "metadata": {},
   "source": [
    "B) Some column(s) might not be needed. Get rid of them. Explain why you get rid of the respective column(s). </p>\n",
    "Save the new dataframe again under the name \"defaults\"."
   ]
  },
  {
   "cell_type": "code",
   "execution_count": null,
   "metadata": {},
   "outputs": [],
   "source": [
    "defaults <- select(defaults, -Sex)\n",
    "\n",
    "#I decided to remove the column Sex since the grant of a credit should not be based on sex (which would make it discriminatory). All other variables are relevant: the degree of education might be positively correlated with a salary, and therefore the credit amount; a person’s marriage allows to know whether the person has a potential person of emergency in case he or she can no longer pay his/her debts; Age also allows to determine a risk factor since the older the person is, the higher the risk he/she will not have time to pay back his/her debt, therefore the amount should be reduced. Eventually, defaults supposedly qualify whether the person already defaulted on his or her debt and is very relevant since we might assume a person who already defaulted might default again in the future since he or she might not be able to manage his/her debt management properly.\n"
   ]
  },
  {
   "cell_type": "markdown",
   "metadata": {},
   "source": [
    "C) Convert all categorical values into dummy variables. Only include columns with valuable information. </p>\n",
    "Save the new dataframe again under the name \"defaults\"."
   ]
  },
  {
   "cell_type": "code",
   "execution_count": null,
   "metadata": {},
   "outputs": [],
   "source": [
    "- defaults <- defaults %>% replace(defaults$education, c(“university”,”graduate school”,”high school”,”others”), c(0,1,2,3))\n",
    "- defaults <- defaults %>% replace(defaults$marriage, c(“married”, “single”, “others”), c(0,1,2))\n"
   ]
  },
  {
   "cell_type": "markdown",
   "metadata": {},
   "source": [
    "D) In order to run a model, we have to define now the X and y variables. Set the y values to the \"default\" (either 0 or 1). The remaining columns represent the X values."
   ]
  },
  {
   "cell_type": "code",
   "execution_count": null,
   "metadata": {},
   "outputs": [],
   "source": [
    "#Credit_limit is the Y\n",
    "Credit_limit <- 0\n",
    "\n",
    "#Education, Marriage, Age & Default are the X values"
   ]
  },
  {
   "cell_type": "markdown",
   "metadata": {},
   "source": [
    "<h2>4. Further Data Analysis</h2>"
   ]
  },
  {
   "cell_type": "markdown",
   "metadata": {},
   "source": [
    "A) Please evaluate the importance of each feature of the X values on the y value of the previous exercise using any tree ensamble algorithm and display the results graphically. Please comment your findings. Please tell us what you did and why you did it."
   ]
  },
  {
   "cell_type": "code",
   "execution_count": null,
   "metadata": {},
   "outputs": [],
   "source": [
    "#I will run a random forest tree classifier to understand the relationship between the dependent variables X (Education, Marriage, Age, Default) and the independent variable Y (Credit_limit)\n",
    "\n",
    "#Using the caret package, I train my model\n",
    "my_model <- train (credit_limit ~ Education + Marriage + Age + Default, data = defaults, method = “rf”)\n",
    "\n",
    "#I then visualize using ggraph: \n",
    "plot <- ggraph(my_model, ‘dendrogram’)\n",
    "\n",
    "#My graph did not work and I don’t know why even if I tweaked It several times… but I can assume that we can see a succession/hierarchy of choices by clusters.\n"
   ]
  },
  {
   "cell_type": "markdown",
   "metadata": {},
   "source": [
    "B) Please assess how accuarely we can predict, whether a customer will default or not using Support Vector Machines. As always plase explain your work."
   ]
  },
  {
   "cell_type": "code",
   "execution_count": null,
   "metadata": {},
   "outputs": [],
   "source": [
    "#I don’t think I ever studied Support Vector Machines… I would not know an equivalent in R."
   ]
  },
  {
   "cell_type": "markdown",
   "metadata": {},
   "source": [
    "C) Now let's see how accurate the XGBoost algorithm can predict, whether a customer will default or not better than the previous SVM. Please give us the accuracy score and standard deviation. Choose an appropiate model for testing and training."
   ]
  },
  {
   "cell_type": "code",
   "execution_count": null,
   "metadata": {},
   "outputs": [],
   "source": [
    "#I don’t think I ever studied XGBoost algorithm… I would not know an equivalent in R."
   ]
  }
 ],
 "metadata": {
  "kernelspec": {
   "display_name": "Python 3",
   "language": "python",
   "name": "python3"
  },
  "language_info": {
   "codemirror_mode": {
    "name": "ipython",
    "version": 3
   },
   "file_extension": ".py",
   "mimetype": "text/x-python",
   "name": "python",
   "nbconvert_exporter": "python",
   "pygments_lexer": "ipython3",
   "version": "3.8.5"
  }
 },
 "nbformat": 4,
 "nbformat_minor": 2
}
